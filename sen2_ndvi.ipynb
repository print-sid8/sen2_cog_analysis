{
 "cells": [
  {
   "cell_type": "markdown",
   "metadata": {},
   "source": [
    "## Imports and setting up GDAL environment variables"
   ]
  },
  {
   "cell_type": "code",
   "execution_count": null,
   "metadata": {},
   "outputs": [],
   "source": [
    "import json\n",
    "import datetime\n",
    "import requests as rq\n",
    "\n",
    "import numpy as np\n",
    "\n",
    "from PIL import Image\n",
    "\n",
    "import folium\n",
    "from folium import plugins\n",
    "\n",
    "from osgeo import gdal\n",
    "\n",
    "import shapely\n",
    "import shapely.wkt\n",
    "import shapely.geometry\n",
    "from shapely.geometry import shape, MultiPolygon\n",
    "from shapely.ops import transform as shapely_transform\n",
    "\n",
    "import pyproj\n",
    "from pyproj import Proj, transform\n",
    "\n",
    "import rasterio as rio\n",
    "from rasterio.mask import mask\n",
    "\n",
    "\n",
    "gdal.SetConfigOption('GDAL_HTTP_COOKIEFILE', '~/cookies.txt')\n",
    "gdal.SetConfigOption('GDAL_HTTP_COOKIEJAR', '~/cookies.txt')\n",
    "gdal.SetConfigOption('GDAL_DISABLE_READDIR_ON_OPEN', 'YES')\n",
    "gdal.SetConfigOption('CPL_VSIL_CURL_ALLOWED_EXTENSIONS', 'TIF')"
   ]
  },
  {
   "cell_type": "markdown",
   "metadata": {},
   "source": [
    "# Functions used throughout notebook\n",
    "\n",
    "- **reproject_aoi** : function takes CRS.from_espg and a WGS Shapely Polygon, to reproject WGS Shapely polygon to desired CRS\n",
    "- **get_geojson_from_poly** : getting GeoJSON in list (as requried for rasterio mask) from any Shapely Polygon\n",
    "- **add_geojson_to_map** : Adding a GeoJSON to Folium map\n",
    "- **reproject2wgs_write** : function that takes a raster and reprojects tp WGS84 and writes output as geotiff\n",
    "- **add_array_to_map** : function takes raster array, its bounds, and adds it to Folium basemap as Overlay\n",
    "- **get_wgs_coords** : function that takes lat long pair in any CRS to give output in WGS84 CRS"
   ]
  },
  {
   "cell_type": "code",
   "execution_count": null,
   "metadata": {},
   "outputs": [],
   "source": [
    "def reproject_aoi(crs, aoishape):\n",
    "    wgs84 = Proj('+proj=longlat +datum=WGS84 +no_defs', preserve_units=True)\n",
    "    utm = pyproj.Proj(crs)\n",
    "    trans_utm = pyproj.Transformer.from_proj(wgs84, utm)\n",
    "    utm_shapely_polygon = shapely_transform(trans_utm.transform, aoishape)\n",
    "\n",
    "    return utm_shapely_polygon\n",
    "\n",
    "def get_geojson_from_poly(shapely_polygon):\n",
    "    wktext = shapely.wkt.loads(str(shapely_polygon))\n",
    "    json_str = json.dumps(shapely.geometry.mapping(wktext))\n",
    "\n",
    "    geometry = [json.loads(json_str)]\n",
    "    return geometry\n",
    "\n",
    "def add_geojson_to_map(geojson, map):\n",
    "    folium.GeoJson(geojson['geometry'],\n",
    "        name = geojson['properties']['id'],\n",
    "        zoom_on_click=True,\n",
    "        style_function=styles).add_to(map)\n",
    "\n",
    "def add_array_to_map(array,bounds,name):\n",
    "    folium.raster_layers.ImageOverlay(\n",
    "        image=array,\n",
    "        name=name,\n",
    "        opacity=1,\n",
    "        bounds= boundary\n",
    "    ).add_to(m)\n",
    "\n",
    "def get_wgs_coords(lat,lon,crs):\n",
    "\n",
    "    inProj = Proj(crs)\n",
    "    outProj = Proj('epsg:4326')\n",
    "    x1,y1 = lon,lat\n",
    "    x2,y2 = transform(inProj,outProj,x1,y1)\n",
    "    return x2,y2"
   ]
  },
  {
   "cell_type": "markdown",
   "metadata": {},
   "source": [
    "### Using GET request to download raw Geojson from github gist link"
   ]
  },
  {
   "cell_type": "code",
   "execution_count": null,
   "metadata": {},
   "outputs": [],
   "source": [
    "gist = rq.get('https://gist.githubusercontent.com/thaisbendixen/e126c37a3fa021495414658eeaf86d8d/raw/5d1926dcb3a4b9d631521ba12ea79fdc1ecd2df7/doberitz_multipolygon.geojson')\n",
    "geoj = gist.json()"
   ]
  },
  {
   "cell_type": "markdown",
   "metadata": {},
   "source": [
    "#### Naming polygons within Multipolygon for use later"
   ]
  },
  {
   "cell_type": "code",
   "execution_count": null,
   "metadata": {},
   "outputs": [],
   "source": [
    "## Adding \"poly_ID\" to the two polygons in the multipolygon geojson for later use\n",
    "\n",
    "for i in range(len(geoj['features'])):\n",
    "    geoj['features'][i]['properties']['id'] = f\"poly_{i+1}\""
   ]
  },
  {
   "cell_type": "code",
   "execution_count": null,
   "metadata": {},
   "outputs": [],
   "source": [
    "geoj"
   ]
  },
  {
   "cell_type": "markdown",
   "metadata": {},
   "source": [
    "### Creating Multipolygon in Shapely for geometric operations on the given geojson"
   ]
  },
  {
   "cell_type": "code",
   "execution_count": null,
   "metadata": {},
   "outputs": [],
   "source": [
    "multishape = MultiPolygon([shape(pol['geometry']) for pol in geoj['features']])"
   ]
  },
  {
   "cell_type": "markdown",
   "metadata": {},
   "source": [
    "### Setting up Folium Basemap layers and GeoJSON styles"
   ]
  },
  {
   "cell_type": "code",
   "execution_count": null,
   "metadata": {},
   "outputs": [],
   "source": [
    "# Add custom base maps to folium\n",
    "basemaps = {\n",
    "    'Google Maps': folium.TileLayer(\n",
    "        tiles = 'https://mt1.google.com/vt/lyrs=m&x={x}&y={y}&z={z}',\n",
    "        attr = 'Google',\n",
    "        name = 'Google Maps',\n",
    "        overlay = True,\n",
    "        control = True\n",
    "    ),\n",
    "    'Google Satellite': folium.TileLayer(\n",
    "        tiles = 'https://mt1.google.com/vt/lyrs=s&x={x}&y={y}&z={z}',\n",
    "        attr = 'Google',\n",
    "        name = 'Google Satellite',\n",
    "        overlay = True,\n",
    "        control = True\n",
    "    ),\n",
    "    'Google Terrain': folium.TileLayer(\n",
    "        tiles = 'https://mt1.google.com/vt/lyrs=p&x={x}&y={y}&z={z}',\n",
    "        attr = 'Google',\n",
    "        name = 'Google Terrain',\n",
    "        overlay = True,\n",
    "        control = True\n",
    "    ),\n",
    "    'Google Satellite Hybrid': folium.TileLayer(\n",
    "        tiles = 'https://mt1.google.com/vt/lyrs=y&x={x}&y={y}&z={z}',\n",
    "        attr = 'Google',\n",
    "        name = 'Google Satellite',\n",
    "        overlay = True,\n",
    "        control = True\n",
    "    )\n",
    "}\n",
    "\n",
    "\n",
    "styles =lambda feature: {\n",
    "        \"fillColor\": \"blue\",\n",
    "        \"color\": \"white\",\n",
    "        \"weight\": 2,\n",
    "        \"dashArray\": \"5, 5\"}\n"
   ]
  },
  {
   "cell_type": "markdown",
   "metadata": {},
   "source": [
    "### Visualizing the given GeoJSON on Folium"
   ]
  },
  {
   "cell_type": "code",
   "execution_count": null,
   "metadata": {},
   "outputs": [],
   "source": [
    "m = folium.Map([multishape.centroid.y,multishape.centroid.x], zoom_start=12)\n",
    "\n",
    "# Add custom basemaps\n",
    "basemaps['Google Maps'].add_to(m)\n",
    "basemaps['Google Satellite Hybrid'].add_to(m)\n",
    "\n",
    "for feature in geoj['features']:\n",
    "    add_geojson_to_map(feature,m)\n",
    "\n",
    "# Add a layer control panel to the map.\n",
    "m.add_child(folium.LayerControl())\n",
    "\n",
    "#fullscreen\n",
    "plugins.Fullscreen().add_to(m)\n",
    "    \n",
    "m"
   ]
  },
  {
   "cell_type": "markdown",
   "metadata": {},
   "source": [
    "## Here, we user the JSON response output from the Python CLI script to Visualize Sentinel-2 RGB image and KMeans output image on Folium"
   ]
  },
  {
   "cell_type": "code",
   "execution_count": null,
   "metadata": {},
   "outputs": [],
   "source": [
    "import json\n",
    "\n",
    "with open('./analysis_response.json') as d:\n",
    "    data = json.load(d)\n"
   ]
  },
  {
   "cell_type": "code",
   "execution_count": null,
   "metadata": {},
   "outputs": [],
   "source": [
    "data"
   ]
  },
  {
   "cell_type": "markdown",
   "metadata": {},
   "source": [
    "### Note - \n",
    "- The colors in the PNG image to be overlain on the Folium basemap is generated using the \"gdaldem\" cli function and the associated \"colormap.txt\" file.\n",
    "\n",
    "- The outputs will be colored differently on new runs of the KMeans, although \"random_state\" of KMeans was set to 0.\n",
    "\n",
    "#### Hence a prepared output in Matplotlib is attached at the bottom of the notebook, with proper colors and legend.\n",
    "\n",
    "-------------"
   ]
  },
  {
   "cell_type": "code",
   "execution_count": null,
   "metadata": {},
   "outputs": [],
   "source": [
    "m = folium.Map(location=[multishape.centroid.y,multishape.centroid.x], tiles='Stamen Terrain', zoom_start=10)\n",
    "\n",
    "for info in data:\n",
    "\n",
    "    print(info['polygon_id'])\n",
    "    \n",
    "    # opening the Kmeans output of the polygon to get CRS and Bounds information\n",
    "    out_dat = rio.open(f\"./kmeans_output/Unsupervised_KMeans_{info['polygon_id']}.tif\")\n",
    "    \n",
    "    utmbounds = out_dat.bounds\n",
    "    \n",
    "    # converting UTM bounds to WGS bounds, for use in Folium Overlay\n",
    "    bot, left = get_wgs_coords(utmbounds.bottom, utmbounds.left, out_dat.crs.to_dict()['init'])\n",
    "    top, right = get_wgs_coords(utmbounds.top, utmbounds.right, out_dat.crs.to_dict()['init'])\n",
    "    \n",
    "    # getting True Color Image associated with polygon\n",
    "    tci = rio.open(info['true_color_image'])\n",
    "    \n",
    "    # getting the geometry of the polygon, to clip true color image\n",
    "    for i in range(len(geoj['features'])):\n",
    "        if info['polygon_id'] == geoj['features'][i]['properties']['id']:\n",
    "            geom = geoj['features'][i]['geometry']\n",
    "    \n",
    "    #reprojcting to UTM zome of sen2 image\n",
    "    utm_shape = reproject_aoi(out_dat.crs, shape(geom))\n",
    "    \n",
    "    # clipping COG\n",
    "    tci_array, tci_transf = mask(tci,get_geojson_from_poly(utm_shape),crop=True)\n",
    "    \n",
    "    # transposing Numpy array for Folium\n",
    "    tcirgb = tci_array.transpose(1,-1,0)\n",
    "\n",
    "    boundary = [[bot, left],[top,right]]\n",
    "    \n",
    "    # adding True Color Image to Folium as Overlay\n",
    "    add_array_to_map(tcirgb, boundary, f\"true_color_image_{info['polygon_id']}\")\n",
    "    \n",
    "    # adding the PNG output created by Python CLI script, as Folium Overlay\n",
    "    png_array = np.array(Image.open(f\"./kmeans_output/Unsupervised_KMeans_{info['polygon_id']}.png\"))\n",
    "    add_array_to_map(png_array, boundary, f\"KMeans_output_{info['polygon_id']}\")\n",
    "\n",
    "# adding extra basemaps to Folium\n",
    "basemaps['Google Maps'].add_to(m)\n",
    "basemaps['Google Satellite Hybrid'].add_to(m)\n",
    "\n",
    "# Add a layer control panel to the map.\n",
    "m.add_child(folium.LayerControl())\n",
    "\n",
    "m"
   ]
  },
  {
   "cell_type": "markdown",
   "metadata": {},
   "source": [
    "# Conclusions -\n",
    "\n",
    "### The KMeans clusters Identify 4 different clusters in both areas of Interest.\n",
    "\n",
    "### A prepared Matplotlib PNG output can be seen below, explain the land covers that are present and identified by the KMeans Unsupervised Algorithm\n",
    "\n",
    "![](./png_outputs/Unsupervised_poly_1.png) ![](./png_outputs/Unsupervised_poly_2.png)"
   ]
  }
 ],
 "metadata": {
  "interpreter": {
   "hash": "31f2aee4e71d21fbe5cf8b01ff0e069b9275f58929596ceb00d14d90e3e16cd6"
  },
  "kernelspec": {
   "display_name": "Python 3",
   "language": "python",
   "name": "python3"
  },
  "language_info": {
   "codemirror_mode": {
    "name": "ipython",
    "version": 3
   },
   "file_extension": ".py",
   "mimetype": "text/x-python",
   "name": "python",
   "nbconvert_exporter": "python",
   "pygments_lexer": "ipython3",
   "version": "3.8.10"
  }
 },
 "nbformat": 4,
 "nbformat_minor": 4
}

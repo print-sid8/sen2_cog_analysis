{
 "cells": [
  {
   "cell_type": "markdown",
   "metadata": {},
   "source": [
    "## Imports and setting up GDAL environment variables"
   ]
  },
  {
   "cell_type": "code",
   "execution_count": null,
   "metadata": {},
   "outputs": [],
   "source": [
    "import json\n",
    "import datetime\n",
    "import requests as rq\n",
    "\n",
    "import numpy as np\n",
    "\n",
    "import matplotlib.pyplot as plt\n",
    "import matplotlib as mpl\n",
    "from matplotlib.colors import ListedColormap\n",
    "import matplotlib.patches as mpatches\n",
    "from IPython.display import Image\n",
    "\n",
    "import folium\n",
    "\n",
    "from osgeo import gdal\n",
    "\n",
    "import shapely\n",
    "import shapely.wkt\n",
    "import shapely.geometry\n",
    "from shapely.geometry import shape, MultiPolygon\n",
    "from shapely.ops import transform as shapely_transform\n",
    "\n",
    "import pyproj\n",
    "from pyproj import Proj\n",
    "\n",
    "import rasterio as rio\n",
    "from rasterio.mask import mask\n",
    "from rasterio.plot import show\n",
    "\n",
    "from sklearn.cluster import KMeans\n",
    "\n",
    "gdal.SetConfigOption('GDAL_HTTP_COOKIEFILE', '~/cookies.txt')\n",
    "gdal.SetConfigOption('GDAL_HTTP_COOKIEJAR', '~/cookies.txt')\n",
    "gdal.SetConfigOption('GDAL_DISABLE_READDIR_ON_OPEN', 'YES')\n",
    "gdal.SetConfigOption('CPL_VSIL_CURL_ALLOWED_EXTENSIONS', 'TIF')\n",
    "\n",
    "mpl.rcParams['figure.dpi'] = 150"
   ]
  },
  {
   "cell_type": "markdown",
   "metadata": {},
   "source": [
    "## Functions used throughout notebook\n",
    "\n",
    "- **getndvi** : function to get NDVI array using NIR and RED arrays\n",
    "- **reproject_aoi** : function takes CRS.from_espg and a WGS Shapely Polygon, to reproject WGS Shapely polygon to desired CRS\n",
    "- **get_geojson_from_poly** : getting GeoJSON in list (as requried for rasterio mask) from any Shapely Polygon\n",
    "- **add_geojson_to_map** : Adding a GeoJSON to Folium map"
   ]
  },
  {
   "cell_type": "code",
   "execution_count": null,
   "metadata": {},
   "outputs": [],
   "source": [
    "def getndvi(red, nir):\n",
    "    return ((nir - red)/(nir + red))\n",
    "\n",
    "def reproject_aoi(crs, aoishape):\n",
    "    wgs84 = Proj('+proj=longlat +datum=WGS84 +no_defs', preserve_units=True)\n",
    "    utm = pyproj.Proj(crs)\n",
    "    trans_utm = pyproj.Transformer.from_proj(wgs84, utm)\n",
    "    utm_shapely_polygon = shapely_transform(trans_utm.transform, aoishape)\n",
    "\n",
    "    return utm_shapely_polygon\n",
    "\n",
    "def get_geojson_from_poly(shapely_polygon):\n",
    "    wktext = shapely.wkt.loads(str(shapely_polygon))\n",
    "    json_str = json.dumps(shapely.geometry.mapping(wktext))\n",
    "\n",
    "    geometry = [json.loads(json_str)]\n",
    "    return geometry\n",
    "\n",
    "def add_geojson_to_map(geojson, map):\n",
    "    folium.GeoJson(geojson['geometry'],\n",
    "        name = geojson['properties']['id'],\n",
    "        zoom_on_click=True,\n",
    "        style_function=styles).add_to(map)"
   ]
  },
  {
   "cell_type": "markdown",
   "metadata": {},
   "source": [
    "### Using GET request to download raw Geojson from github gist link"
   ]
  },
  {
   "cell_type": "code",
   "execution_count": null,
   "metadata": {},
   "outputs": [],
   "source": [
    "gist = rq.get('https://gist.githubusercontent.com/thaisbendixen/e126c37a3fa021495414658eeaf86d8d/raw/5d1926dcb3a4b9d631521ba12ea79fdc1ecd2df7/doberitz_multipolygon.geojson')\n",
    "geoj = gist.json()\n",
    "geoj"
   ]
  },
  {
   "cell_type": "markdown",
   "metadata": {},
   "source": [
    "#### Naming polygons within Multipolygon for use later"
   ]
  },
  {
   "cell_type": "code",
   "execution_count": null,
   "metadata": {},
   "outputs": [],
   "source": [
    "## Adding \"poly_ID\" to the two polygons in the multipolygon geojson for later use\n",
    "\n",
    "for i in range(len(geoj['features'])):\n",
    "    geoj['features'][i]['properties']['id'] = f\"poly_{i+1}\""
   ]
  },
  {
   "cell_type": "code",
   "execution_count": null,
   "metadata": {},
   "outputs": [],
   "source": [
    "geoj"
   ]
  },
  {
   "cell_type": "markdown",
   "metadata": {},
   "source": [
    "### adding start and end date using Datetime module, along with Geojson, for querying element84 API\n"
   ]
  },
  {
   "cell_type": "code",
   "execution_count": null,
   "metadata": {},
   "outputs": [],
   "source": [
    "payload = {}\n",
    "payload['end_date']=datetime.datetime.today().strftime(\"%Y-%m-%d\")\n",
    "payload['start_date']=(datetime.datetime.today() - datetime.timedelta(days=20)).strftime(\"%Y-%m-%d\")\n",
    "payload['aois']=geoj\n",
    "payload"
   ]
  },
  {
   "cell_type": "markdown",
   "metadata": {},
   "source": [
    "### Creating Multipolygon in Shapely for geometric operations on the geojson, such as convex_hull, incase that is theinterest to get NDVI values/arrays"
   ]
  },
  {
   "cell_type": "code",
   "execution_count": null,
   "metadata": {},
   "outputs": [],
   "source": [
    "multishape = MultiPolygon([shape(pol['geometry']) for pol in payload['aois']['features']])"
   ]
  },
  {
   "cell_type": "code",
   "execution_count": null,
   "metadata": {},
   "outputs": [],
   "source": [
    "### if the interested area is the overall area covered by both polygons,\n",
    "### then we get the convex_hull of the multipolygon\n",
    "\n",
    "outer_coords_shape = multishape.convex_hull\n",
    "outer_coords_shape"
   ]
  },
  {
   "cell_type": "markdown",
   "metadata": {},
   "source": [
    "### Visualizing the given Multipolygon with Folium"
   ]
  },
  {
   "cell_type": "code",
   "execution_count": null,
   "metadata": {},
   "outputs": [],
   "source": [
    "#import plugins \n",
    "from folium import plugins\n",
    "\n",
    "# Add custom base maps to folium\n",
    "basemaps = {\n",
    "    'Google Maps': folium.TileLayer(\n",
    "        tiles = 'https://mt1.google.com/vt/lyrs=m&x={x}&y={y}&z={z}',\n",
    "        attr = 'Google',\n",
    "        name = 'Google Maps',\n",
    "        overlay = True,\n",
    "        control = True\n",
    "    ),\n",
    "    'Google Satellite': folium.TileLayer(\n",
    "        tiles = 'https://mt1.google.com/vt/lyrs=s&x={x}&y={y}&z={z}',\n",
    "        attr = 'Google',\n",
    "        name = 'Google Satellite',\n",
    "        overlay = True,\n",
    "        control = True\n",
    "    ),\n",
    "    'Google Terrain': folium.TileLayer(\n",
    "        tiles = 'https://mt1.google.com/vt/lyrs=p&x={x}&y={y}&z={z}',\n",
    "        attr = 'Google',\n",
    "        name = 'Google Terrain',\n",
    "        overlay = True,\n",
    "        control = True\n",
    "    ),\n",
    "    'Google Satellite Hybrid': folium.TileLayer(\n",
    "        tiles = 'https://mt1.google.com/vt/lyrs=y&x={x}&y={y}&z={z}',\n",
    "        attr = 'Google',\n",
    "        name = 'Google Satellite',\n",
    "        overlay = True,\n",
    "        control = True\n",
    "    )\n",
    "}\n",
    "\n",
    "\n",
    "styles =lambda feature: {\n",
    "        \"fillColor\": \"blue\",\n",
    "        \"color\": \"white\",\n",
    "        \"weight\": 2,\n",
    "        \"dashArray\": \"5, 5\"}\n"
   ]
  },
  {
   "cell_type": "code",
   "execution_count": null,
   "metadata": {},
   "outputs": [],
   "source": [
    "m = folium.Map([multishape.centroid.y,multishape.centroid.x], zoom_start=12)\n",
    "\n",
    "# Add custom basemaps\n",
    "basemaps['Google Maps'].add_to(m)\n",
    "basemaps['Google Satellite Hybrid'].add_to(m)\n",
    "\n",
    "for feature in payload['aois']['features']:\n",
    "    add_geojson_to_map(feature,m)\n",
    "\n",
    "# Add a layer control panel to the map.\n",
    "m.add_child(folium.LayerControl())\n",
    "\n",
    "#fullscreen\n",
    "plugins.Fullscreen().add_to(m)\n",
    "    \n",
    "m"
   ]
  },
  {
   "cell_type": "markdown",
   "metadata": {},
   "source": [
    "## Querying AWS/Element84 STAC API endpoint.\n",
    "\n",
    "- Element8s STAC API endpoint takes start and end date and a bounding box for area of interest.\n",
    "- The Sentinel 2A images are in the \"/sentinel-s2-l2a-cogs/items/\" url, which gives links of images kept in the Open Data AWS S3.\n",
    "- The response is a JSON which has to be sifted through to arrive at ideal images for our usecase\n"
   ]
  },
  {
   "cell_type": "code",
   "execution_count": null,
   "metadata": {},
   "outputs": [],
   "source": [
    "## Getting overall bounds of the given multipolygon\n",
    "bounds = list(multishape.bounds)\n",
    "\n",
    "# removing \"spaces\" in bounds list/string to avoid issues in sending HTTP requests\n",
    "bbox = str(bounds).replace(' ','') \n",
    "bbox"
   ]
  },
  {
   "cell_type": "code",
   "execution_count": null,
   "metadata": {},
   "outputs": [],
   "source": [
    "## searching for COGs in AWS\n",
    "\n",
    "url = f\"https://earth-search.aws.element84.com/v0/collections/sentinel-s2-l2a-cogs/items? \\\n",
    "limit=550&bbox={bbox}& \\\n",
    "datetime={payload['start_date']}T00:00:00Z/{payload['end_date']}T23:59:59Z\"\n",
    "\n",
    "try:\n",
    "    search_response = rq.get(url).json()\n",
    "except Exception as e:\n",
    "    print(e)\n",
    "    print('\\nSentinel-2 AWS URL failed')\n",
    "\n",
    "items = search_response['features']\n",
    "\n",
    "## Initializing an empty list to append only the required data from the STAC JSON response\n",
    "bandlist = []\n",
    "\n",
    "## Choosing only dates that have Cloud Cover less than 10%\n",
    "for item in items:\n",
    "    if item['properties']['eo:cloud_cover'] < 10:\n",
    "        image = [\n",
    "            item['assets']['thumbnail']['href'], # PNG/JPG True Color\n",
    "            item['properties']['datetime'].split('T')[0],  # DATE in format - 2021-01-01T21:31:13Z \n",
    "            item['assets']['B04']['href'],  # RED\n",
    "            item['assets']['B08']['href'],  # NIR\n",
    "            item['assets']['visual']['href'], # TIF true color\n",
    "            item['properties']['sentinel:data_coverage']]\n",
    "        bandlist.append(image)\n",
    "\n",
    "print(bandlist)\n",
    "        \n",
    "## remove duplicates/double images per day with difference of seconds between each other\n",
    "## these images are quite common due to the way Sen2 images are stored in AWS, as tiles. \n",
    "\n",
    "## function from stackoverflow to iterate through a list\n",
    "def neighborhood(iterable):\n",
    "    iterator = iter(iterable)\n",
    "    prev_item = None\n",
    "    current_item = next(iterator)  # throws StopIteration if empty.\n",
    "    for next_item in iterator:\n",
    "        yield (prev_item, current_item, next_item)\n",
    "        prev_item = current_item\n",
    "        current_item = next_item\n",
    "    yield (prev_item, current_item, None)\n",
    "\n",
    "to_run = []\n",
    "\n",
    "## Going through the filtered dates from STAC, looking for duplicated dates,\n",
    "## then choosing the item that has better [sentinel:data_coverage]\n",
    "\n",
    "for prev, current, forward in neighborhood(bandlist):\n",
    "    if prev is not None:\n",
    "        if not any((prev[1] or current[1]) in sublist for sublist in to_run):\n",
    "            if prev[1] == current[1]:\n",
    "                if prev[5] > current[5]:\n",
    "                    to_run.append(prev)\n",
    "                else:\n",
    "                    to_run.append(current)\n",
    "    else:\n",
    "        if not any((current[1] or forward[1]) in sublist for sublist in to_run):\n",
    "            if current[1] == forward[1]:\n",
    "                if current[5] > forward[5]:\n",
    "                    to_run.append(current)\n",
    "                else:\n",
    "                    to_run.append(forward)"
   ]
  },
  {
   "cell_type": "code",
   "execution_count": null,
   "metadata": {},
   "outputs": [],
   "source": [
    "to_run"
   ]
  },
  {
   "cell_type": "code",
   "execution_count": null,
   "metadata": {},
   "outputs": [],
   "source": [
    "date = to_run[0][1]\n",
    "b4 = to_run[0][2]\n",
    "b8 = to_run[0][3]\n",
    "\n",
    "print('Getting required bands for date :', date, 'from link :', b4)\n",
    "\n",
    "print('\\nOpening red band')\n",
    "\n",
    "try:\n",
    "    red = rio.open(b4)\n",
    "except Exception as e:\n",
    "    print('\\n Issue with Sentinel-2 S3 Link :', e)\n",
    "\n",
    "print('\\nOpening nir band')\n",
    "\n",
    "nir = rio.open(b8)"
   ]
  },
  {
   "cell_type": "markdown",
   "metadata": {},
   "source": [
    "## Analysis on Notebook is exploratory, hence there is no loop for the polygons within the multipolygon.\n",
    "\n",
    "### If required, the overall convex_hull/outer_coordinates of the Multipolygon can be used as well (commented out)"
   ]
  },
  {
   "cell_type": "code",
   "execution_count": null,
   "metadata": {},
   "outputs": [],
   "source": [
    "### Choose individual polygons from multipolygon OR \n",
    "### the overall outer coordinates of the multipolygon\n",
    "\n",
    "# shape_polygon = outer_coords_shape\n",
    "\n",
    "#################\n",
    "# for individual polygons out, make GEOMETRY 0 OR 1 ie., first or second polygon\n",
    "GEOMETRY = 0\n",
    "#################\n",
    "\n",
    "\n",
    "shape_polygon = multishape.geoms[GEOMETRY]"
   ]
  },
  {
   "cell_type": "code",
   "execution_count": null,
   "metadata": {},
   "outputs": [],
   "source": [
    "# converting polygon to UTM projection of the image to be queried\n",
    "# this is used to get the clipped array from S3 Images\n",
    "utm_shape = reproject_aoi(red.crs, shape_polygon)"
   ]
  },
  {
   "cell_type": "code",
   "execution_count": null,
   "metadata": {},
   "outputs": [],
   "source": [
    "# Using COG links to get clipped arrays from AWS\n",
    "\n",
    "print('\\nClipping NIR band..')\n",
    "nir_array, nir_transform = mask(\n",
    "    nir, get_geojson_from_poly(utm_shape), crop=True)\n",
    "print('NIR array recieved!')\n",
    "\n",
    "print('\\nClipping RED band..')\n",
    "red_array, red_transform = mask(\n",
    "    red, get_geojson_from_poly(utm_shape), crop=True)\n",
    "print('RED array recieved!')"
   ]
  },
  {
   "cell_type": "code",
   "execution_count": null,
   "metadata": {},
   "outputs": [],
   "source": [
    "np.seterr(divide='ignore', invalid='ignore')\n",
    "\n",
    "# scaling is applied to Sen-2A images to reduce image size and keep arrays as Uint type\n",
    "# the scaling is multiplied applied back to get ideal NDVI values,\n",
    "# with float arrays of sen2 bands\n",
    "SCALE = 0.001\n",
    "\n",
    "# Getting NDVI array\n",
    "print('\\nComputing NDVI array..')\n",
    "ndvi = getndvi(red_array[0]*SCALE, nir_array[0]*SCALE)\n",
    "print('Completed NDVI array!')\n",
    "\n",
    "if np.count_nonzero(np.isnan(ndvi)) > 0:\n",
    "    print('\\nNAN values in NDVI array, making them 0')\n",
    "    ndvi = np.nan_to_num(ndvi,0)\n",
    "\n",
    "# Getting average NDVI\n",
    "print(\"\\n##################\")\n",
    "print(f\"\\nMean NDVI for chosen polygon : {payload['aois']['features'][GEOMETRY]['properties']['id']} is = {round(ndvi.mean(),4)}\")\n",
    "print(\"\\n##################\")"
   ]
  },
  {
   "cell_type": "markdown",
   "metadata": {},
   "source": [
    "### Preparing for KMeans"
   ]
  },
  {
   "cell_type": "code",
   "execution_count": null,
   "metadata": {},
   "outputs": [],
   "source": [
    "# Initializing empty array, to later add flattened NDVI for KMeans classfier\n",
    "flatndvi = np.empty((ndvi.shape[0]*ndvi.shape[1],1))\n",
    "\n",
    "print('Flattening NDVI array..')\n",
    "# adding NDVI array flattened\n",
    "flatndvi[:, 0] = ndvi.flatten()\n",
    "print('\\nFlattened NDVI array!')"
   ]
  },
  {
   "cell_type": "code",
   "execution_count": null,
   "metadata": {},
   "outputs": [],
   "source": [
    "## Applying KMeans clustering to the NDVI raster\n",
    "\n",
    "NUM_CLASSES = 4\n",
    "\n",
    "km = KMeans(n_clusters=NUM_CLASSES,random_state=0)\n",
    "print('Fitting KMeans..')\n",
    "km.fit(flatndvi)\n",
    "print('\\nPredicting Classes/Clusters..')\n",
    "km.predict(flatndvi)\n",
    "\n",
    "print('\\nKMeans output ready and reshaped!')\n",
    "out_dat = km.labels_.reshape((ndvi.shape[0], ndvi.shape[1]))"
   ]
  },
  {
   "cell_type": "markdown",
   "metadata": {},
   "source": [
    "### Getting True color Geotiff from AWS and comparing the KMeans output"
   ]
  },
  {
   "cell_type": "code",
   "execution_count": null,
   "metadata": {},
   "outputs": [],
   "source": [
    "print('\\nGetting RGB image cropped to geometry..')\n",
    "tci = rio.open(to_run[0][4])\n",
    "tci_array, tci_transf = mask(tci,get_geojson_from_poly(utm_shape),crop=True)\n",
    "\n",
    "############\n",
    "### apply colormap depending on the polygon and the classes output by KMeans\n",
    "\n",
    "### the output varies in every run of notebook, although the KMeans \"random_state\" is set to 0\n",
    "### hence the color scheme needs to be chosen for the outputs manually at the moment.\n",
    "\n",
    "print('\\nChoosing Colormap..')\n",
    "\n",
    "colors = [\"beige\", \"green\",\"brown\",\"limegreen\"]\n",
    "###########\n",
    "\n",
    "cmap = ListedColormap(colors)\n",
    "\n",
    "print('\\nDisplaying RGB image and KMeans clusters for comparison!')\n",
    "show(tci_array)\n",
    "show(out_dat,cmap=cmap)"
   ]
  },
  {
   "cell_type": "markdown",
   "metadata": {},
   "source": [
    "## Creating PNG output with matplotlib legends and titles"
   ]
  },
  {
   "cell_type": "code",
   "execution_count": null,
   "metadata": {},
   "outputs": [],
   "source": [
    "plt.imshow(out_dat,cmap=cmap)\n",
    "\n",
    "brown_patch = mpatches.Patch(color='brown', label='Very Low Vegetation/Water')\n",
    "green_patch = mpatches.Patch(color='green', label='Dense Vegetation')\n",
    "lightgreen_patch = mpatches.Patch(color='limegreen', label='Low Vegetation')\n",
    "white_patch = mpatches.Patch(color='beige', label='Urban/Barren Land')\n",
    "\n",
    "plt.title(f\"Unsupervised Classification for {NUM_CLASSES} Classes - Polygon : {payload['aois']['features'][GEOMETRY]['properties']['id']}\\n\")\n",
    "plt.legend(handles=[brown_patch,green_patch,lightgreen_patch,white_patch],bbox_to_anchor=(1.02, 1), loc='upper left', borderaxespad=2)\n",
    "plt.savefig(f\"Unsupervised_{payload['aois']['features'][GEOMETRY]['properties']['id']}.png\",bbox_inches=\"tight\")\n",
    "plt.show()"
   ]
  },
  {
   "cell_type": "code",
   "execution_count": null,
   "metadata": {},
   "outputs": [],
   "source": []
  }
 ],
 "metadata": {
  "kernelspec": {
   "display_name": "Python 3",
   "language": "python",
   "name": "python3"
  },
  "language_info": {
   "codemirror_mode": {
    "name": "ipython",
    "version": 3
   },
   "file_extension": ".py",
   "mimetype": "text/x-python",
   "name": "python",
   "nbconvert_exporter": "python",
   "pygments_lexer": "ipython3",
   "version": "3.8.10"
  }
 },
 "nbformat": 4,
 "nbformat_minor": 4
}
